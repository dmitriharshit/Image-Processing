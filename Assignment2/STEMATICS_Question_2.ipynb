{
  "nbformat": 4,
  "nbformat_minor": 0,
  "metadata": {
    "colab": {
      "provenance": []
    },
    "kernelspec": {
      "name": "python3",
      "display_name": "Python 3"
    },
    "language_info": {
      "name": "python"
    }
  },
  "cells": [
    {
      "cell_type": "markdown",
      "source": [
        "IMPORTING LIBRARIES AND TAKING INPUT:"
      ],
      "metadata": {
        "id": "EXSx329vnH16"
      }
    },
    {
      "cell_type": "code",
      "execution_count": 13,
      "metadata": {
        "id": "Jyexo27txelD"
      },
      "outputs": [],
      "source": [
        "from google.colab.patches import cv2_imshow \n",
        "import cv2 as cv\n",
        "import numpy as np"
      ]
    },
    {
      "cell_type": "code",
      "source": [
        "num = str(input('number should be atleast 2 digit long :'))\n",
        "num = num[-2:]\n",
        "img = np.zeros((300, 500), dtype='uint8') #making 300 x 500 blank image\n",
        "cv2_imshow(img)"
      ],
      "metadata": {
        "colab": {
          "base_uri": "https://localhost:8080/",
          "height": 334
        },
        "id": "cMVrjnFCpFzU",
        "outputId": "a483340d-afa9-4536-cbfe-bf6ee0007630"
      },
      "execution_count": 15,
      "outputs": [
        {
          "name": "stdout",
          "output_type": "stream",
          "text": [
            "number should be atleast 2 digit long :355\n"
          ]
        },
        {
          "output_type": "display_data",
          "data": {
            "text/plain": [
              "<PIL.Image.Image image mode=L size=500x300 at 0x7FF91BD2B8E0>"
            ],
            "image/png": "[encoded data removed]"
          },
          "metadata": {}
        }
      ]
    },
    {
      "cell_type": "markdown",
      "source": [
        "DOT MATRIX:\n"
      ],
      "metadata": {
        "id": "q3YjCRUznCK2"
      }
    },
    {
      "cell_type": "code",
      "source": [
        "radius = 25\n",
        "dot_space = 5\n",
        "#initial coordinates of centre of first dot\n",
        "x = 60\n",
        "y = 40\n",
        "#making 10 x 5 x 3 matrix representaing digits:\n",
        "# 1's represent dots:\n",
        "matrix = np.array([\n",
        "      [[1, 1, 1], [1, 0, 1], [1, 0, 1], [1, 0, 1], [1, 1, 1]], #0\n",
        "      [[0, 1, 0], [1, 1, 0], [0, 1, 0], [0, 1, 0], [1, 1, 1]], #1\n",
        "      [[1, 1, 1], [0, 0, 1], [1, 1, 1], [1, 0, 0], [1, 1, 1]], #2\n",
        "      [[1, 1, 1], [0, 0, 1], [1, 1, 1], [0, 0, 1], [1, 1, 1]], #3\n",
        "      [[1, 0, 1], [1, 0, 1], [1, 1, 1], [0, 0, 1], [0, 0, 1]], #4\n",
        "      [[1, 1, 1], [1, 0, 0], [1, 1, 1], [0, 0, 1], [1, 1, 1]], #5\n",
        "      [[1, 1, 1], [1, 0, 0], [1, 1, 1], [1, 0, 1], [1, 1, 1]], #6\n",
        "      [[1, 1, 1], [0, 0, 1], [0, 0, 1], [0, 0, 1], [0, 0, 1]], #7\n",
        "      [[1, 1, 1], [1, 0, 1], [1, 1, 1], [1, 0, 1], [1, 1, 1]], #8\n",
        "      [[1, 1, 1], [1, 0, 1], [1, 1, 1], [0, 0, 1], [1, 1, 1]], #9\n",
        "    ])\n",
        "matrix.shape"
      ],
      "metadata": {
        "colab": {
          "base_uri": "https://localhost:8080/"
        },
        "id": "lO3k9WAHxpv-",
        "outputId": "2d895924-97b4-44c5-e617-f4b07d9879e9"
      },
      "execution_count": 16,
      "outputs": [
        {
          "output_type": "execute_result",
          "data": {
            "text/plain": [
              "(10, 5, 3)"
            ]
          },
          "metadata": {},
          "execution_count": 16
        }
      ]
    },
    {
      "cell_type": "markdown",
      "source": [
        "MAIN FUNCTION:"
      ],
      "metadata": {
        "id": "Qs2FsvnWnNKK"
      }
    },
    {
      "cell_type": "code",
      "source": [
        "for i, number in enumerate(num):\n",
        "        number = int(number)\n",
        "        for row in range(5):\n",
        "            for col, dot in enumerate(matrix[number][row]):\n",
        "                x_coor = i * (275) + col * (2*radius+dot_space) + x\n",
        "                y_coor = row * (2*radius+dot_space) + y\n",
        "                if dot == 1: #if it is a 1 we make a dot\n",
        "                    cv.circle(img, (x_coor, y_coor),\n",
        "                              25, (255),\n",
        "                              thickness=cv.FILLED)"
      ],
      "metadata": {
        "id": "K06aHyLWy43F"
      },
      "execution_count": 17,
      "outputs": []
    },
    {
      "cell_type": "markdown",
      "source": [
        "SHOWING FINAL IMAGE:"
      ],
      "metadata": {
        "id": "XXwYE7TanUdx"
      }
    },
    {
      "cell_type": "code",
      "source": [
        "cv2_imshow(img)"
      ],
      "metadata": {
        "colab": {
          "base_uri": "https://localhost:8080/",
          "height": 317
        },
        "id": "gnqcuFkXzEi0",
        "outputId": "5dd7b369-7724-4351-e68b-99ba846bfe40"
      },
      "execution_count": 18,
      "outputs": [
        {
          "output_type": "display_data",
          "data": {
            "text/plain": [
              "<PIL.Image.Image image mode=L size=500x300 at 0x7FF8F08E6440>"
            ],
            "image/png": "[encoded data removed]"
          },
          "metadata": {}
        }
      ]
    }
  ]
}